{
 "cells": [
  {
   "cell_type": "code",
   "execution_count": null,
   "metadata": {},
   "outputs": [
    {
     "name": "stdout",
     "output_type": "stream",
     "text": [
      "Please enter the following details:\n",
      "Predicted mean temperature: 25.40 °C\n"
     ]
    },
    {
     "name": "stderr",
     "output_type": "stream",
     "text": [
      "c:\\Users\\kushw\\anaconda3\\Lib\\site-packages\\sklearn\\base.py:493: UserWarning: X does not have valid feature names, but StandardScaler was fitted with feature names\n",
      "  warnings.warn(\n",
      "C:\\Users\\kushw\\AppData\\Local\\Temp\\ipykernel_2268\\779918786.py:20: DeprecationWarning: Conversion of an array with ndim > 0 to a scalar is deprecated, and will error in future. Ensure you extract a single element from your array before performing this operation. (Deprecated NumPy 1.25.)\n",
      "  predicted_temp_value = float(predicted_temp[0])\n"
     ]
    }
   ],
   "source": [
    "import joblib\n",
    "import numpy as np\n",
    "\n",
    "model = joblib.load('wethr_prdt_modl.pkl')  # Load your trained model\n",
    "scaler = joblib.load('scaler.pkl')  # Load the saved scaler\n",
    "\n",
    "print(\"Please enter the following details:\")\n",
    "\n",
    "humidity = float(input(\"Enter humidity (e.g., 65): \"))\n",
    "wind_speed = float(input(\"Enter wind speed (e.g., 12): \"))\n",
    "meanpressure = float(input(\"Enter mean pressure (e.g., 1015): \"))\n",
    "\n",
    "user_input = np.array([[humidity, wind_speed, meanpressure]])\n",
    "\n",
    "scaled_input = scaler.transform(user_input)  \n",
    "\n",
    "predicted_temp = model.predict(scaled_input)  \n",
    "\n",
    "\n",
    "predicted_temp_value = float(predicted_temp[0]) \n",
    "\n",
    "print(f\"Predicted mean temperature based on the prediction model: {predicted_temp_value:.2f} °C\")\n"
   ]
  }
 ],
 "metadata": {
  "kernelspec": {
   "display_name": "base",
   "language": "python",
   "name": "python3"
  },
  "language_info": {
   "codemirror_mode": {
    "name": "ipython",
    "version": 3
   },
   "file_extension": ".py",
   "mimetype": "text/x-python",
   "name": "python",
   "nbconvert_exporter": "python",
   "pygments_lexer": "ipython3",
   "version": "3.12.7"
  }
 },
 "nbformat": 4,
 "nbformat_minor": 2
}
